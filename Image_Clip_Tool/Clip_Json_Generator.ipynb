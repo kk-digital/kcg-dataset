{
  "nbformat": 4,
  "nbformat_minor": 0,
  "metadata": {
    "colab": {
      "provenance": []
    },
    "kernelspec": {
      "name": "python3",
      "display_name": "Python 3"
    },
    "language_info": {
      "name": "python"
    }
  },
  "cells": [
    {
      "cell_type": "markdown",
      "source": [
        "# Clip Json Generator"
      ],
      "metadata": {
        "id": "aoYrUl1Qyg0Y"
      }
    },
    {
      "cell_type": "code",
      "execution_count": null,
      "metadata": {
        "id": "d38nAyjDfEqQ"
      },
      "outputs": [],
      "source": [
        "%pip install ascii_graph open_clip_torch patool fire openai-clip"
      ]
    },
    {
      "cell_type": "code",
      "source": [
        "import torch\n",
        "\n",
        "if torch.cuda.is_available():\n",
        "    device = torch.device(\"cuda\")\n",
        "    print(f\"Found CUDA device: {torch.cuda.get_device_name()}\")\n",
        "else:\n",
        "    device = torch.device(\"cpu\")\n",
        "    print(\"No CUDA device found.\")"
      ],
      "metadata": {
        "id": "1MiulkODfNfz"
      },
      "execution_count": null,
      "outputs": []
    },
    {
      "cell_type": "code",
      "source": [
        "import os\n",
        "import zipfile\n",
        "import hashlib\n",
        "import json\n",
        "from PIL import Image\n",
        "import requests\n",
        "from io import BytesIO\n",
        "import clip\n",
        "import torch\n",
        "\n",
        "model_name = \"ViT-L/14\"\n",
        "\n",
        "\n",
        "def clip_json_generator(input_directory, output_directory):\n",
        "    device = \"cuda\" if torch.cuda.is_available() else \"cpu\"\n",
        "    model, preprocess = clip.load(model_name, device=device)\n",
        "\n",
        "    def get_file_hash(file):\n",
        "        hasher = hashlib.md5()\n",
        "        with open(file, 'rb') as f:\n",
        "            buf = f.read()\n",
        "            hasher.update(buf)\n",
        "        return hasher.hexdigest()\n",
        "\n",
        "    def get_clip_vector(image_path):\n",
        "        try:\n",
        "            image = Image.open(image_path)\n",
        "            image_input = preprocess(image).unsqueeze(0).to(device)\n",
        "            with torch.no_grad():\n",
        "                features = model.encode_image(image_input)\n",
        "            normalized_features = features / features.norm(dim=-1, keepdim=True)\n",
        "            clip_vector = normalized_features.cpu().numpy().tolist()\n",
        "            return clip_vector\n",
        "        except FileNotFoundError:\n",
        "            print(f\"Image file not found at {image_path}. Skipping...\")\n",
        "            return None\n",
        "\n",
        "    if not os.path.exists(output_directory):\n",
        "        os.makedirs(output_directory)\n",
        "\n",
        "    for root, dirs, files in os.walk(input_directory):\n",
        "        for file in files:\n",
        "            if file.endswith('.zip'):\n",
        "                zip_file_path = os.path.join(root, file)\n",
        "                image_data = []\n",
        "\n",
        "                with zipfile.ZipFile(zip_file_path, 'r') as zip_ref:\n",
        "                    for member in zip_ref.infolist():\n",
        "                        if member.filename.lower().endswith(('.png', '.jpg')):\n",
        "                            # Extract image from the zip file\n",
        "                            with zip_ref.open(member) as img_file:\n",
        "                                img_data = img_file.read()\n",
        "                                img = Image.open(BytesIO(img_data))\n",
        "                                img.save(f'extracted_{os.path.basename(member.filename)}')\n",
        "\n",
        "                            # Calculate file hash\n",
        "                            file_hash = get_file_hash(f'extracted_{os.path.basename(member.filename)}')\n",
        "\n",
        "                            # Generate CLIP vector\n",
        "                            clip_vector = get_clip_vector(f'extracted_{os.path.basename(member.filename)}')\n",
        "\n",
        "                            # Add the data to the list (if the CLIP vector is not None)\n",
        "                            if clip_vector is not None:\n",
        "                                image_data.append({\n",
        "                                    'zip_file': zip_file_path,\n",
        "                                    'filename': member.filename,\n",
        "                                    'file_hash': file_hash,\n",
        "                                    'clip_model': model_name,\n",
        "                                    'clip_vector': clip_vector,\n",
        "                                })\n",
        "                            else:\n",
        "                                print(f\"Skipping image {member.filename} due to missing file.\")\n",
        "\n",
        "                            # Clean up the extracted image\n",
        "                            os.remove(f'extracted_{os.path.basename(member.filename)}')\n",
        "\n",
        "                # Write the image_data list to a separate JSON file for each zip file\n",
        "                output_json_file = os.path.join(output_directory, f\"{os.path.splitext(file)[0]}_clip_vectors.json\")\n",
        "                with open(output_json_file, 'w') as f:\n",
        "                    json.dump(image_data, f, indent=4)\n"
      ],
      "metadata": {
        "id": "go90-W-LfRHk"
      },
      "execution_count": null,
      "outputs": []
    },
    {
      "cell_type": "code",
      "source": [
        "#Change Input-Directory Path\n",
        "clip_json_generator ('/content/drive/MyDrive/pixel_art_10_11', '/content/output')\n"
      ],
      "metadata": {
        "id": "x9ega3yUfW8P"
      },
      "execution_count": null,
      "outputs": []
    }
  ]
}